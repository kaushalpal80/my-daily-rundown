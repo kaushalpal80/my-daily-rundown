{
 "cells": [
  {
   "cell_type": "code",
   "execution_count": 19,
   "id": "9def227d",
   "metadata": {},
   "outputs": [
    {
     "name": "stdout",
     "output_type": "stream",
     "text": [
      "[[1 2 3 4 5 6 7 8 9]\n",
      " [5 8 7 6 1 2 3 4 8]]\n",
      "2\n",
      "[3 4 8]\n"
     ]
    }
   ],
   "source": [
    "import numpy as np\n",
    "kk=np.array([[1,2,3,4,5,6,7,8,9],[5,8,7,6,1,2,3,4,8]])\n",
    "print(kk)\n",
    "print(kk.ndim)\n",
    "kr=kk[1,6:9]\n",
    "print(kr)"
   ]
  },
  {
   "cell_type": "code",
   "execution_count": 27,
   "id": "c2dddb06",
   "metadata": {},
   "outputs": [
    {
     "name": "stdout",
     "output_type": "stream",
     "text": [
      "[[[1 2 3 4 5 6]\n",
      "  [6 5 4 9 8 7]]]\n",
      "\n",
      "3\n",
      "\n",
      "\n",
      "1\n",
      "2\n",
      "3\n",
      "4\n",
      "5\n",
      "6\n",
      "6\n",
      "5\n",
      "4\n",
      "9\n",
      "8\n",
      "7\n"
     ]
    }
   ],
   "source": [
    "var1=np.array([[[1,2,3,4,5,6],[6,5,4,9,8,7]]])\n",
    "print(var1)\n",
    "print()\n",
    "print(var1.ndim)\n",
    "print()\n",
    "print()\n",
    "for i in var1:\n",
    "    for j in i:\n",
    "        for k in j:\n",
    "            print(k)\n",
    "    "
   ]
  },
  {
   "cell_type": "code",
   "execution_count": 30,
   "id": "71f59704",
   "metadata": {},
   "outputs": [
    {
     "name": "stdout",
     "output_type": "stream",
     "text": [
      "(1, 3, 6)\n"
     ]
    }
   ],
   "source": [
    "var2=np.array([[[1,2,3,4,5,6],[5,4,6,7,8,9],[6,5,4,9,8,7]]])\n",
    "print(var2.shape)"
   ]
  },
  {
   "cell_type": "code",
   "execution_count": 35,
   "id": "3b4fc19a",
   "metadata": {},
   "outputs": [
    {
     "name": "stdout",
     "output_type": "stream",
     "text": [
      "1\n"
     ]
    },
    {
     "ename": "ValueError",
     "evalue": "cannot reshape array of size 8 into shape (1,2,2)",
     "output_type": "error",
     "traceback": [
      "\u001b[1;31m---------------------------------------------------------------------------\u001b[0m",
      "\u001b[1;31mValueError\u001b[0m                                Traceback (most recent call last)",
      "Cell \u001b[1;32mIn[35], line 3\u001b[0m\n\u001b[0;32m      1\u001b[0m var3\u001b[38;5;241m=\u001b[39mnp\u001b[38;5;241m.\u001b[39marray([\u001b[38;5;241m2\u001b[39m,\u001b[38;5;241m1\u001b[39m,\u001b[38;5;241m4\u001b[39m,\u001b[38;5;241m5\u001b[39m,\u001b[38;5;241m6\u001b[39m,\u001b[38;5;241m7\u001b[39m,\u001b[38;5;241m8\u001b[39m,\u001b[38;5;241m9\u001b[39m])\n\u001b[0;32m      2\u001b[0m \u001b[38;5;28mprint\u001b[39m(var3\u001b[38;5;241m.\u001b[39mndim)\n\u001b[1;32m----> 3\u001b[0m x\u001b[38;5;241m=\u001b[39m\u001b[43mvar3\u001b[49m\u001b[38;5;241;43m.\u001b[39;49m\u001b[43mreshape\u001b[49m\u001b[43m(\u001b[49m\u001b[38;5;241;43m1\u001b[39;49m\u001b[43m,\u001b[49m\u001b[38;5;241;43m2\u001b[39;49m\u001b[43m,\u001b[49m\u001b[38;5;241;43m2\u001b[39;49m\u001b[43m)\u001b[49m\n\u001b[0;32m      4\u001b[0m x\n",
      "\u001b[1;31mValueError\u001b[0m: cannot reshape array of size 8 into shape (1,2,2)"
     ]
    }
   ],
   "source": [
    "var3=np.array([2,1,4,5,6,7,8,9])\n",
    "print(var3.ndim)\n",
    "x=var3.reshape(1,2,2)\n",
    "x"
   ]
  },
  {
   "cell_type": "code",
   "execution_count": null,
   "id": "46410065",
   "metadata": {},
   "outputs": [],
   "source": []
  }
 ],
 "metadata": {
  "kernelspec": {
   "display_name": "Python 3 (ipykernel)",
   "language": "python",
   "name": "python3"
  },
  "language_info": {
   "codemirror_mode": {
    "name": "ipython",
    "version": 3
   },
   "file_extension": ".py",
   "mimetype": "text/x-python",
   "name": "python",
   "nbconvert_exporter": "python",
   "pygments_lexer": "ipython3",
   "version": "3.10.9"
  }
 },
 "nbformat": 4,
 "nbformat_minor": 5
}
