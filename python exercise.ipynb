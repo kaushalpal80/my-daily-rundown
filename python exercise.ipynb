{
 "cells": [
  {
   "cell_type": "code",
   "execution_count": 1,
   "id": "23b318d8",
   "metadata": {},
   "outputs": [
    {
     "name": "stdout",
     "output_type": "stream",
     "text": [
      "\n",
      "\n",
      "1 \n",
      "\n",
      "2 2 \n",
      "\n",
      "3 3 3 \n",
      "\n",
      "4 4 4 4 \n",
      "\n",
      "5 5 5 5 5 \n",
      "\n",
      "6 6 6 6 6 6 \n",
      "\n",
      "7 7 7 7 7 7 7 \n",
      "\n",
      "8 8 8 8 8 8 8 8 \n",
      "\n",
      "9 9 9 9 9 9 9 9 9 \n",
      "\n"
     ]
    }
   ],
   "source": [
    "for num in range(10):\n",
    "    for i in range(num):\n",
    "        print (num, end=\" \") #print number\n",
    "    # new line after each row to display pattern correctly\n",
    "    print(\"\\n\")"
   ]
  },
  {
   "cell_type": "code",
   "execution_count": 5,
   "id": "85e34de0",
   "metadata": {},
   "outputs": [
    {
     "name": "stdout",
     "output_type": "stream",
     "text": [
      "\n",
      "\n",
      "1 \n",
      "\n",
      "2 2 \n",
      "\n",
      "3 3 3 \n",
      "\n",
      "4 4 4 4 \n",
      "\n",
      "5 5 5 5 5 \n",
      "\n",
      "6 6 6 6 6 6 \n",
      "\n",
      "7 7 7 7 7 7 7 \n",
      "\n",
      "8 8 8 8 8 8 8 8 \n",
      "\n",
      "9 9 9 9 9 9 9 9 9 \n",
      "\n"
     ]
    }
   ],
   "source": [
    "for num in range(10):\n",
    "    for i in range(num):\n",
    "        print(num,end=\" \")\n",
    "        \n",
    "    print(\"\\n\")    "
   ]
  },
  {
   "cell_type": "code",
   "execution_count": 11,
   "id": "edc3b460",
   "metadata": {},
   "outputs": [
    {
     "name": "stdout",
     "output_type": "stream",
     "text": [
      "25\n",
      "35\n",
      "40\n",
      "60\n",
      "90\n"
     ]
    }
   ],
   "source": [
    "list1 = [10, 20, 25, 30, 35]\n",
    "list2 = [40, 45, 60, 75, 90]\n",
    "n=[]\n",
    "for n in list1:\n",
    "    if n %2==1:\n",
    "        print(n)\n",
    "for m in list2:\n",
    "    if m %2==0:\n",
    "        print(m)        "
   ]
  },
  {
   "cell_type": "code",
   "execution_count": null,
   "id": "58d3db4b",
   "metadata": {},
   "outputs": [],
   "source": [
    "# Exercise 11: Write a Program to extract each digit from an integer in the reverse order.\n",
    "# For example, If the given int is 7536, the output shall be “6 3 5 7“, with a space separating the digits.\n",
    "a=7536\n",
    "\n"
   ]
  },
  {
   "cell_type": "code",
   "execution_count": 12,
   "id": "c186ec1f",
   "metadata": {},
   "outputs": [
    {
     "name": "stdout",
     "output_type": "stream",
     "text": [
      "Given income 45000\n",
      "Total tax to pay is 6000.0\n"
     ]
    }
   ],
   "source": [
    "income = 45000\n",
    "tax_payable = 0\n",
    "print(\"Given income\", income)\n",
    "\n",
    "if income <= 10000:\n",
    "    tax_payable = 0\n",
    "elif income <= 20000:\n",
    "    # no tax on first 10,000\n",
    "    x = income - 10000\n",
    "    # 10% tax\n",
    "    tax_payable = x * 10 / 100\n",
    "else:\n",
    "    # first 10,000\n",
    "    tax_payable = 0\n",
    "\n",
    "    # next 10,000 10% tax\n",
    "    tax_payable = 10000 * 10 / 100\n",
    "\n",
    "    # remaining 20%tax\n",
    "    tax_payable += (income - 20000) * 20 / 100\n",
    "\n",
    "print(\"Total tax to pay is\", tax_payable)"
   ]
  },
  {
   "cell_type": "code",
   "execution_count": 19,
   "id": "817a10c3",
   "metadata": {},
   "outputs": [
    {
     "name": "stdout",
     "output_type": "stream",
     "text": [
      "0 \t\t\n",
      "0 2 \t\t\n",
      "0 3 6 \t\t\n",
      "0 4 8 12 \t\t\n",
      "0 5 10 15 20 \t\t\n",
      "0 6 12 18 24 30 \t\t\n",
      "0 7 14 21 28 35 42 \t\t\n",
      "0 8 16 24 32 40 48 56 \t\t\n",
      "0 9 18 27 36 45 54 63 72 \t\t\n",
      "0 10 20 30 40 50 60 70 80 90 \t\t\n"
     ]
    }
   ],
   "source": [
    "for num in range(1,11):\n",
    "    for i in range(num):\n",
    "        print(num*i,end=\" \")\n",
    "        \n",
    "    print(\"\\t\\t\")"
   ]
  },
  {
   "cell_type": "code",
   "execution_count": 34,
   "id": "2da7601a",
   "metadata": {},
   "outputs": [
    {
     "name": "stdout",
     "output_type": "stream",
     "text": [
      "<class 'list'>\n"
     ]
    },
    {
     "ename": "TypeError",
     "evalue": "'list' object cannot be interpreted as an integer",
     "output_type": "error",
     "traceback": [
      "\u001b[1;31m---------------------------------------------------------------------------\u001b[0m",
      "\u001b[1;31mTypeError\u001b[0m                                 Traceback (most recent call last)",
      "Cell \u001b[1;32mIn[34], line 3\u001b[0m\n\u001b[0;32m      1\u001b[0m b\u001b[38;5;241m=\u001b[39m[]\n\u001b[0;32m      2\u001b[0m \u001b[38;5;28mprint\u001b[39m(\u001b[38;5;28mtype\u001b[39m(b))\n\u001b[1;32m----> 3\u001b[0m \u001b[38;5;28;01mfor\u001b[39;00m b \u001b[38;5;129;01min\u001b[39;00m \u001b[38;5;28;43mrange\u001b[39;49m\u001b[43m(\u001b[49m\u001b[43m[\u001b[49m\u001b[38;5;241;43m1998\u001b[39;49m\u001b[43m,\u001b[49m\u001b[38;5;241;43m2023\u001b[39;49m\u001b[43m]\u001b[49m\u001b[43m)\u001b[49m:\n\u001b[0;32m      4\u001b[0m     \u001b[38;5;28mprint\u001b[39m(b)\n",
      "\u001b[1;31mTypeError\u001b[0m: 'list' object cannot be interpreted as an integer"
     ]
    }
   ],
   "source": [
    "b=[]\n",
    "print(type(b))\n",
    "for b in range([1998,2023]):\n",
    "    print(b) \n",
    "  \n",
    "   "
   ]
  },
  {
   "cell_type": "code",
   "execution_count": 31,
   "id": "e50f0df0",
   "metadata": {},
   "outputs": [
    {
     "name": "stdout",
     "output_type": "stream",
     "text": [
      "<class 'int'>\n"
     ]
    }
   ],
   "source": [
    "print(type(b))"
   ]
  },
  {
   "cell_type": "code",
   "execution_count": 35,
   "id": "93bb75d1",
   "metadata": {},
   "outputs": [],
   "source": [
    "def exponent(base,exp):\n",
    "    num=exp\n",
    "    result=1\n",
    "    while num>0:\n",
    "        result=result*base\n",
    "        num=num-1\n",
    "        "
   ]
  },
  {
   "cell_type": "code",
   "execution_count": null,
   "id": "102e0a24",
   "metadata": {},
   "outputs": [],
   "source": [
    "i=0\n",
    "while i <=10:\n",
    "    i=i+2\n",
    "    print(\"kau\")"
   ]
  },
  {
   "cell_type": "code",
   "execution_count": null,
   "id": "79efb436",
   "metadata": {},
   "outputs": [],
   "source": [
    "i=1\n",
    "while i <=10:\n",
    "    i=i+2\n",
    "    print(\"kau\")"
   ]
  },
  {
   "cell_type": "code",
   "execution_count": 2,
   "id": "ebac7c02",
   "metadata": {},
   "outputs": [
    {
     "name": "stdout",
     "output_type": "stream",
     "text": [
      "625\n"
     ]
    }
   ],
   "source": [
    "def expo(base,exp):\n",
    "    num=exp\n",
    "    result=1\n",
    "    while num>0:\n",
    "        result=result*base\n",
    "        num=num-1\n",
    "    print(result)\n",
    "expo(5,4)        "
   ]
  },
  {
   "cell_type": "code",
   "execution_count": 4,
   "id": "24f44644",
   "metadata": {},
   "outputs": [
    {
     "name": "stdout",
     "output_type": "stream",
     "text": [
      "given input45\n",
      "second given input47\n",
      "the given output is : 2115\n"
     ]
    }
   ],
   "source": [
    "# Write a program to accept two numbers from the user and calculate multiplication\n",
    "\n",
    "num1=int(input(\"given input\"))\n",
    "num2=int(input(\"second given input\"))\n",
    "multi=num1*num2\n",
    "print(\"the given output is :\",multi)\n"
   ]
  },
  {
   "cell_type": "code",
   "execution_count": 5,
   "id": "dc7de765",
   "metadata": {},
   "outputs": [
    {
     "name": "stdout",
     "output_type": "stream",
     "text": [
      "name**is**james\n"
     ]
    }
   ],
   "source": [
    "print(\"name\",\"is\",\"james\",sep=\"**\")"
   ]
  },
  {
   "cell_type": "code",
   "execution_count": 10,
   "id": "0448200a",
   "metadata": {},
   "outputs": [
    {
     "name": "stdout",
     "output_type": "stream",
     "text": [
      "10\n"
     ]
    }
   ],
   "source": [
    "num=8\n",
    "print(\"%o\" %num)"
   ]
  },
  {
   "cell_type": "code",
   "execution_count": 11,
   "id": "1b1b4862",
   "metadata": {},
   "outputs": [
    {
     "ename": "SyntaxError",
     "evalue": "invalid character '»' (U+00BB) (3044423598.py, line 1)",
     "output_type": "error",
     "traceback": [
      "\u001b[1;36m  Cell \u001b[1;32mIn[11], line 1\u001b[1;36m\u001b[0m\n\u001b[1;33m    Home » Python Exercises » Python Input and Output Exercise\u001b[0m\n\u001b[1;37m         ^\u001b[0m\n\u001b[1;31mSyntaxError\u001b[0m\u001b[1;31m:\u001b[0m invalid character '»' (U+00BB)\n"
     ]
    }
   ],
   "source": [
    "Home » Python Exercises » Python Input and Output Exercise\n",
    "Python Input and Output Exercise\n",
    "Updated on: September 6, 2021 | 86 Comments\n",
    "\n",
    "In Python, we can use the input() to accept input from a user and print() to display output on the console. Also, we can use Python for file handling (Reading, writing, appending, and deleting files).\n",
    "\n",
    "This Python Input and Output exercise aims to help Python developers to learn and practice the Python built-in functions print() and input() to perform input and output tasks. Also, we will solve exercises to practice file handling in Python.\n",
    "\n",
    "Also Read:\n",
    "\n",
    "Python input and Output\n",
    "Pytohn File Handling\n",
    "Python Input and Output Quiz\n",
    "This Input and Output exercise includes the following: –\n",
    "\n",
    "The exercise contains 10 questions and solutions provided for each question.\n",
    "When you complete each question, you get more familiar with the Python Input and Output.\n",
    "Let us know if you have any alternative solutions. It will help other developers.\n",
    "Use Online Code Editor to solve exercise questions.\n",
    "\n",
    "Table of contents\n",
    "Exercise 1: Accept numbers from a user\n",
    "Exercise 2: Display three string “Name”, “Is”, “James” as “Name**Is**James”\n",
    "Exercise 3: Convert Decimal number to octal using print() output formatting\n",
    "Exercise 4: Display float number with 2 decimal places using print()\n",
    "Exercise 5: Accept a list of 5 float numbers as an input from the user\n",
    "Exercise 6: Write all content of a given file into a new file by skipping line number 5\n",
    "Exercise 7: Accept any three string from one input() call\n",
    "Exercise 8: Format variables using a string.format() method.\n",
    "Exercise 9: Check file is empty or not\n",
    "Exercise 10: Read line number 4 from the following file\n",
    "Exercise 1: Accept numbers from a user\n",
    "Write a program to accept two numbers from the user and calculate multiplication\n",
    "\n",
    "Help: Take user input in Python\n",
    "\n",
    "Show Hint\n",
    "Show Solution\n",
    "num1 = int(input(\"Enter first number \"))\n",
    "num2 = int(input(\"Enter second number \"))\n",
    "\n",
    "res = num1 * num2\n",
    "print(\"Multiplication is\", res)\n",
    " Run\n",
    "Exercise 2: Display three string “Name”, “Is”, “James” as “Name**Is**James”\n",
    "Use the print() function to format the given words in the mentioned format. Display the ** separator between each string.\n",
    "\n",
    "Expected Output:\n",
    "\n",
    "For example: print('Name', 'Is', 'James') will display Name**Is**James\n",
    "\n",
    "Show Hint\n",
    "Use the sep parameter of the print() function to define the separator symbol between each word.\n",
    "\n",
    "Show Solution\n",
    "Exercise 3: Convert Decimal number to octal using print() output formatting\n",
    "Given:\n",
    "\n",
    "num = 8\n",
    "Expected Output:\n",
    "\n",
    "The octal number of decimal number 8 is 10\n",
    "\n",
    "Show Hint\n",
    "Show Solution\n",
    "num = 8\n",
    "print('%o' % num)\n",
    " Run\n",
    "Exercise 4: Display float number with 2 decimal places using print()\n",
    "Given:\n",
    "\n",
    "num = 458.541315"
   ]
  },
  {
   "cell_type": "code",
   "execution_count": 12,
   "id": "eae81a87",
   "metadata": {},
   "outputs": [
    {
     "ename": "SyntaxError",
     "evalue": "invalid decimal literal (1040062462.py, line 2)",
     "output_type": "error",
     "traceback": [
      "\u001b[1;36m  Cell \u001b[1;32mIn[12], line 2\u001b[1;36m\u001b[0m\n\u001b[1;33m    print(%.2num)\u001b[0m\n\u001b[1;37m            ^\u001b[0m\n\u001b[1;31mSyntaxError\u001b[0m\u001b[1;31m:\u001b[0m invalid decimal literal\n"
     ]
    }
   ],
   "source": [
    "num = 458.541315\n",
    "print(%.2num)"
   ]
  },
  {
   "cell_type": "code",
   "execution_count": 13,
   "id": "62dca125",
   "metadata": {},
   "outputs": [
    {
     "name": "stdout",
     "output_type": "stream",
     "text": [
      "Enter number at location 0 :\n",
      "5\n",
      "Enter number at location 1 :\n",
      "4\n",
      "Enter number at location 2 :\n",
      "1.2\n",
      "Enter number at location 3 :\n",
      "6\n",
      "Enter number at location 4 :\n",
      "47\n",
      "User List: [5.0, 4.0, 1.2, 6.0, 47.0]\n"
     ]
    }
   ],
   "source": [
    "numbers = []\n",
    "\n",
    "# 5 is the list size\n",
    "# run loop 5 times\n",
    "for i in range(0, 5):\n",
    "    print(\"Enter number at location\", i, \":\")\n",
    "    # accept float number from user\n",
    "    item = float(input())\n",
    "    # add it to the list\n",
    "    numbers.append(item)\n",
    "\n",
    "print(\"User List:\", numbers)"
   ]
  },
  {
   "cell_type": "code",
   "execution_count": 15,
   "id": "9e21399f",
   "metadata": {},
   "outputs": [
    {
     "name": "stdout",
     "output_type": "stream",
     "text": [
      "enter the number  0\n",
      "10\n",
      "enter the number  1\n",
      "15\n",
      "enter the number  2\n",
      "124\n",
      "enter the number  3\n",
      "124\n",
      "enter the number  4\n",
      "452\n",
      "updated  [10.0, 15.0, 124.0, 124.0, 452.0]\n"
     ]
    }
   ],
   "source": [
    "numbers=[]\n",
    "for i in range(0,5):\n",
    "    print(\"enter the number \",i)\n",
    "    item=float(input())\n",
    "    numbers.append(item)\n",
    "print(\"updated \",numbers)    "
   ]
  },
  {
   "cell_type": "code",
   "execution_count": 16,
   "id": "5f0da2dd",
   "metadata": {},
   "outputs": [
    {
     "ename": "FileNotFoundError",
     "evalue": "[Errno 2] No such file or directory: 'test.txt'",
     "output_type": "error",
     "traceback": [
      "\u001b[1;31m---------------------------------------------------------------------------\u001b[0m",
      "\u001b[1;31mFileNotFoundError\u001b[0m                         Traceback (most recent call last)",
      "Cell \u001b[1;32mIn[16], line 1\u001b[0m\n\u001b[1;32m----> 1\u001b[0m \u001b[38;5;28;01mwith\u001b[39;00m \u001b[38;5;28;43mopen\u001b[39;49m\u001b[43m(\u001b[49m\u001b[38;5;124;43m\"\u001b[39;49m\u001b[38;5;124;43mtest.txt\u001b[39;49m\u001b[38;5;124;43m\"\u001b[39;49m\u001b[43m,\u001b[49m\u001b[43m \u001b[49m\u001b[38;5;124;43m\"\u001b[39;49m\u001b[38;5;124;43mr\u001b[39;49m\u001b[38;5;124;43m\"\u001b[39;49m\u001b[43m)\u001b[49m \u001b[38;5;28;01mas\u001b[39;00m fp:\n\u001b[0;32m      2\u001b[0m     \u001b[38;5;66;03m# read all lines from a file\u001b[39;00m\n\u001b[0;32m      3\u001b[0m     lines \u001b[38;5;241m=\u001b[39m fp\u001b[38;5;241m.\u001b[39mreadlines()\n\u001b[0;32m      5\u001b[0m \u001b[38;5;66;03m# open new file in write mode\u001b[39;00m\n",
      "File \u001b[1;32m~\\anaconda3\\lib\\site-packages\\IPython\\core\\interactiveshell.py:282\u001b[0m, in \u001b[0;36m_modified_open\u001b[1;34m(file, *args, **kwargs)\u001b[0m\n\u001b[0;32m    275\u001b[0m \u001b[38;5;28;01mif\u001b[39;00m file \u001b[38;5;129;01min\u001b[39;00m {\u001b[38;5;241m0\u001b[39m, \u001b[38;5;241m1\u001b[39m, \u001b[38;5;241m2\u001b[39m}:\n\u001b[0;32m    276\u001b[0m     \u001b[38;5;28;01mraise\u001b[39;00m \u001b[38;5;167;01mValueError\u001b[39;00m(\n\u001b[0;32m    277\u001b[0m         \u001b[38;5;124mf\u001b[39m\u001b[38;5;124m\"\u001b[39m\u001b[38;5;124mIPython won\u001b[39m\u001b[38;5;124m'\u001b[39m\u001b[38;5;124mt let you open fd=\u001b[39m\u001b[38;5;132;01m{\u001b[39;00mfile\u001b[38;5;132;01m}\u001b[39;00m\u001b[38;5;124m by default \u001b[39m\u001b[38;5;124m\"\u001b[39m\n\u001b[0;32m    278\u001b[0m         \u001b[38;5;124m\"\u001b[39m\u001b[38;5;124mas it is likely to crash IPython. If you know what you are doing, \u001b[39m\u001b[38;5;124m\"\u001b[39m\n\u001b[0;32m    279\u001b[0m         \u001b[38;5;124m\"\u001b[39m\u001b[38;5;124myou can use builtins\u001b[39m\u001b[38;5;124m'\u001b[39m\u001b[38;5;124m open.\u001b[39m\u001b[38;5;124m\"\u001b[39m\n\u001b[0;32m    280\u001b[0m     )\n\u001b[1;32m--> 282\u001b[0m \u001b[38;5;28;01mreturn\u001b[39;00m io_open(file, \u001b[38;5;241m*\u001b[39margs, \u001b[38;5;241m*\u001b[39m\u001b[38;5;241m*\u001b[39mkwargs)\n",
      "\u001b[1;31mFileNotFoundError\u001b[0m: [Errno 2] No such file or directory: 'test.txt'"
     ]
    }
   ],
   "source": [
    "with open(\"test.txt\", \"r\") as fp:\n",
    "    # read all lines from a file\n",
    "    lines = fp.readlines()\n",
    "\n",
    "# open new file in write mode\n",
    "with open(\"new_file.txt\", \"w\") as fp:\n",
    "    count = 0\n",
    "    # iterate each lines from a test.txt\n",
    "    for line in lines:\n",
    "        # skip 5th lines\n",
    "        if count == 4:\n",
    "            count += 1\n",
    "            continue\n",
    "        else:\n",
    "            # write current line\n",
    "            fp.write(line)\n",
    "        # in each iteration reduce the count\n",
    "        count += 1"
   ]
  },
  {
   "cell_type": "code",
   "execution_count": 3,
   "id": "30963e85",
   "metadata": {},
   "outputs": [
    {
     "name": "stdout",
     "output_type": "stream",
     "text": [
      "5x 1 = 5\n",
      "5x 2 = 10\n",
      "5x 3 = 15\n",
      "5x 4 = 20\n",
      "5x 5 = 25\n",
      "5x 6 = 30\n",
      "5x 7 = 35\n",
      "5x 8 = 40\n",
      "5x 9 = 45\n",
      "5x 10 = 50\n"
     ]
    }
   ],
   "source": [
    "# i=int(input(\"enter the number whose multiple by :\"))\n",
    "\n",
    "for i in range(10):\n",
    "    if i==10:\n",
    "        break\n",
    "    print(\"5x\",i+1,\"=\",5*(1+i))    "
   ]
  },
  {
   "cell_type": "code",
   "execution_count": 4,
   "id": "3877ad80",
   "metadata": {},
   "outputs": [
    {
     "name": "stdout",
     "output_type": "stream",
     "text": [
      "set the number:5\n",
      "5\n",
      "6\n",
      "7\n",
      "8\n",
      "9\n",
      "10\n"
     ]
    }
   ],
   "source": [
    "\n",
    "i=int(input(\"set the number:\"))\n",
    "while i<=38:\n",
    "    print(i)\n",
    "    i=i+1\n",
    "    if i==10:\n",
    "        break\n",
    "    \n",
    "        \n",
    "    \n",
    "print(i)  "
   ]
  },
  {
   "cell_type": "code",
   "execution_count": 5,
   "id": "de63c207",
   "metadata": {},
   "outputs": [
    {
     "name": "stdout",
     "output_type": "stream",
     "text": [
      "rajul is ak\n",
      "pal is ajhaatu\n"
     ]
    }
   ],
   "source": [
    "class person():\n",
    "    name=\"kausal\"\n",
    "    age=24\n",
    "    occupation=\"mechanical engineering\"\n",
    "    def info(self):\n",
    "        print(f\"{self.name} is a{self.occupation}\")\n",
    "        \n",
    "a=person()\n",
    "b=person()\n",
    "\n",
    "a.name=\"pal\"\n",
    "a.occupation=\"jhaatu\"\n",
    "b.name=\"rajul\"\n",
    "b.occupation=\"k\"\n",
    "b.info()\n",
    "a.info()"
   ]
  },
  {
   "cell_type": "code",
   "execution_count": 6,
   "id": "af38efa9",
   "metadata": {},
   "outputs": [
    {
     "name": "stdout",
     "output_type": "stream",
     "text": [
      "rahul gandhi jindabad\n",
      "hey  i am kaushal\n",
      "rahul ke papa jindabad and also nana jindabad\n"
     ]
    }
   ],
   "source": [
    "# decorator\n",
    "def reco(dmx):\n",
    "    def mx():\n",
    "        print(\"rahul gandhi jindabad\")\n",
    "        \n",
    "        dmx()\n",
    "            \n",
    "        \n",
    "        print(\"rahul ke papa jindabad and also nana jindabad\")\n",
    "    return mx       \n",
    "@reco\n",
    "def pal():\n",
    "    print(\"hey  i am kaushal\")\n",
    "pal()    \n",
    "    \n",
    "        \n"
   ]
  },
  {
   "cell_type": "code",
   "execution_count": 7,
   "id": "c5c306e5",
   "metadata": {},
   "outputs": [
    {
     "name": "stdout",
     "output_type": "stream",
     "text": [
      "[2001, 2002, 2003, 2004, 2005, 2006, 2007, 2008, 2009, 2010, 2011, 2012, 2013, 2014, 2015, 2016, 2017, 2018, 2019, 2020, 2021]\n"
     ]
    }
   ],
   "source": [
    "# how to range in loop convert into list\n",
    "x=[i for i in range(2001,2022)]\n",
    "print(x)"
   ]
  },
  {
   "cell_type": "code",
   "execution_count": 8,
   "id": "c86cb5c1",
   "metadata": {},
   "outputs": [
    {
     "name": "stdout",
     "output_type": "stream",
     "text": [
      "15\n",
      "good evening\n"
     ]
    }
   ],
   "source": [
    "# time alarm\n",
    "import time\n",
    "t=time.strftime(\"%H\")\n",
    "x=print(t)\n",
    "if t==x:\n",
    "    print(\"good morning\")\n",
    "\n",
    "else :\n",
    "    print(\"good evening\")"
   ]
  },
  {
   "cell_type": "code",
   "execution_count": 9,
   "id": "824a0504",
   "metadata": {},
   "outputs": [
    {
     "name": "stdout",
     "output_type": "stream",
     "text": [
      "25\n",
      "35\n",
      "40\n",
      "60\n",
      "90\n"
     ]
    }
   ],
   "source": [
    "list1 = [10, 20, 25, 30, 35]\n",
    "list2 = [40, 45, 60, 75, 90]\n",
    "n=[]\n",
    "for n in list1:\n",
    "    if n %2==1:\n",
    "        print(n)\n",
    "for m in list2:\n",
    "    if m %2==0:\n",
    "        print(m)    "
   ]
  },
  {
   "cell_type": "code",
   "execution_count": 10,
   "id": "df0b04e9",
   "metadata": {},
   "outputs": [
    {
     "name": "stdout",
     "output_type": "stream",
     "text": [
      "\n",
      "\n",
      "1 \n",
      "\n",
      "2 2 \n",
      "\n",
      "3 3 3 \n",
      "\n",
      "4 4 4 4 \n",
      "\n",
      "5 5 5 5 5 \n",
      "\n",
      "6 6 6 6 6 6 \n",
      "\n",
      "7 7 7 7 7 7 7 \n",
      "\n",
      "8 8 8 8 8 8 8 8 \n",
      "\n",
      "9 9 9 9 9 9 9 9 9 \n",
      "\n"
     ]
    }
   ],
   "source": [
    "for num in range(10):\n",
    "    for i in range(num):\n",
    "        print (num, end=\" \") #print number\n",
    "    # new line after each row to display pattern correctly\n",
    "    print(\"\\n\")"
   ]
  },
  {
   "cell_type": "code",
   "execution_count": null,
   "id": "ad18b8ec",
   "metadata": {},
   "outputs": [],
   "source": []
  }
 ],
 "metadata": {
  "kernelspec": {
   "display_name": "Python 3 (ipykernel)",
   "language": "python",
   "name": "python3"
  },
  "language_info": {
   "codemirror_mode": {
    "name": "ipython",
    "version": 3
   },
   "file_extension": ".py",
   "mimetype": "text/x-python",
   "name": "python",
   "nbconvert_exporter": "python",
   "pygments_lexer": "ipython3",
   "version": "3.10.9"
  }
 },
 "nbformat": 4,
 "nbformat_minor": 5
}
